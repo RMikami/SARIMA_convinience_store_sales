{
 "cells": [
  {
   "cell_type": "code",
   "execution_count": null,
   "metadata": {},
   "outputs": [],
   "source": [
    "import itertools\n",
    "import pandas as pd\n",
    "import numpy as np\n",
    "import statsmodels.api as sm\n",
    "import matplotlib.pyplot as plt"
   ]
  },
  {
   "cell_type": "code",
   "execution_count": null,
   "metadata": {},
   "outputs": [],
   "source": [
    "convini_sales=pd.read_excel(\"/Users/coj37/Documents/portfolio/time_series_analysis/convini_sales.xlsx\")\n",
    "index=pd.date_range(\"2008-01-31\",\"2020-07-31\",freq=\"M\")\n",
    "convini_sales.index=index\n",
    "del convini_sales[\"Month\"]\n",
    "#convini_sales.head()"
   ]
  },
  {
   "cell_type": "code",
   "execution_count": null,
   "metadata": {},
   "outputs": [],
   "source": [
    "#パラメータ決定関数の定義\n",
    "#時系列データ：dataとパラメータs(周期)：s(今回は12と設定)を入力すると、最もよいパラメータとBICが出力される\n",
    "def selectparameter(data,s):\n",
    "    p=d=q=range(0,2)\n",
    "    pdq=list(itertools.product(p,d,q))\n",
    "    seasonal_pdq=[(x[0],x[1],x[2],s) for x in pdq]\n",
    "    parameters=[]\n",
    "    BICs=np.array([])\n",
    "    for param in pdq:\n",
    "        for param_seasonal in seasonal_pdq:\n",
    "            try:\n",
    "                mod=sm.tsa.statespace.SARIMAX(convini_sales,order=param,seasonal_order=param_seasonal)\n",
    "                results=mod.fit()\n",
    "                parameters.append([param,param_seasonal,results.bic])\n",
    "                BICs=np.append(BICs,results.bic)\n",
    "\n",
    "            except:\n",
    "                continue\n",
    "                \n",
    "    return parameters[np.argmin(BICs)]\n",
    "\n",
    "#selectparameter(convini_sales,12)"
   ]
  },
  {
   "cell_type": "code",
   "execution_count": null,
   "metadata": {},
   "outputs": [],
   "source": [
    "SARIMA_convini_sales=sm.tsa.statespace.SARIMAX(convini_sales,\n",
    "                                       order=selectparameter(convini_sales,12)[0],\n",
    "                                       seasonal_order=selectparameter(convini_sales,12)[1]).fit()\n",
    "\n",
    "pred_1=SARIMA_convini_sales.predict(\"2015-01-31\",\"2021-12-31\")\n",
    "pred_2=SARIMA_convini_sales.predict(\"2015-01-31\",\"2050-12-31\")\n",
    "\n",
    "plt.figure(figsize=(8,8))\n",
    "\n",
    "plt.subplot(2,1,1)\n",
    "plt.plot(convini_sales)\n",
    "plt.plot(pred_1,color=\"r\")\n",
    "plt.xlabel(\"date\")\n",
    "plt.ylabel(\"sales(million units)\")\n",
    "\n",
    "plt.subplot(2,1,2)\n",
    "plt.plot(convini_sales)\n",
    "plt.plot(pred_2,color=\"r\")\n",
    "plt.xlabel(\"date\")\n",
    "plt.ylabel(\"sales(million units)\")\n",
    "\n",
    "plt.show()"
   ]
  }
 ],
 "metadata": {
  "kernelspec": {
   "display_name": "Python 3",
   "language": "python",
   "name": "python3"
  },
  "language_info": {
   "codemirror_mode": {
    "name": "ipython",
    "version": 3
   },
   "file_extension": ".py",
   "mimetype": "text/x-python",
   "name": "python",
   "nbconvert_exporter": "python",
   "pygments_lexer": "ipython3",
   "version": "3.7.7"
  }
 },
 "nbformat": 4,
 "nbformat_minor": 4
}
